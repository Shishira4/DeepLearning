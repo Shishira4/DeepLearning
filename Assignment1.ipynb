{
 "cells": [
  {
   "cell_type": "markdown",
   "metadata": {},
   "source": [
    "<h1>Linear Regression</h1>\n",
    "\n"
   ]
  },
  {
   "cell_type": "markdown",
   "metadata": {},
   "source": [
    "<p>Linear regression is used in which value of dependent variable is predicted\n",
    "through independent variables. A relationship is formed by mapping the dependent and independent\n",
    "variable on a line and that line is called regression line which is represented by Y= a*X + b.</p>"
   ]
  },
  {
   "cell_type": "markdown",
   "metadata": {},
   "source": [
    "Linear Regression Algorithm can be used in ML when the data is present in a continuous fashion\n",
    "It predicts results of data such as: \n",
    "\n",
    "If 1 pen costs 3 rupees<br>\n",
    "2 pens costs 6 rupees<br>\n",
    "3 pens cost 9 rupees<br>\n",
    "4 pens cost 12 rupees<br>\n",
    "how much would 8 pens cost?<br>\n",
    "\n",
    "It will formulate that <b>y=3x</b> and predict that <b>8 pens would cost 24 rupees</b>"
   ]
  },
  {
   "cell_type": "markdown",
   "metadata": {},
   "source": [
    "<h3>Linear Regression Algorithm</h3>"
   ]
  },
  {
   "cell_type": "code",
   "execution_count": 3,
   "metadata": {
    "scrolled": true
   },
   "outputs": [
    {
     "name": "stdout",
     "output_type": "stream",
     "text": [
      "[24.]\n"
     ]
    },
    {
     "data": {
      "image/png": "[encoded data removed]",
      "text/plain": [
       "<Figure size 432x288 with 1 Axes>"
      ]
     },
     "metadata": {
      "needs_background": "light"
     },
     "output_type": "display_data"
    }
   ],
   "source": [
    "import matplotlib\n",
    "import matplotlib.pyplot as plt\n",
    "import numpy as np\n",
    "import pandas as pd\n",
    "import sklearn\n",
    "from sklearn import linear_model\n",
    "height=[[4.0],[5.0],[6.0],[7.0],[8.0],[9.0],[10.0]]\n",
    "weight=[  8, 10 , 12, 14, 16, 18, 20]\n",
    "plt.scatter(height,weight,color='black')\n",
    "plt.xlabel(\"height\")\n",
    "plt.ylabel(\"weight\")\n",
    "reg=linear_model.LinearRegression()\n",
    "reg.fit(height,weight)\n",
    "X_height=[[12.0]]\n",
    "print(reg.predict(X_height))\n"
   ]
  },
  {
   "cell_type": "markdown",
   "metadata": {},
   "source": [
    "<b><h5>Observe that the graph is linear</h5></b>"
   ]
  },
  {
   "cell_type": "markdown",
   "metadata": {},
   "source": [
    "<br>"
   ]
  },
  {
   "cell_type": "markdown",
   "metadata": {},
   "source": [
    "# Logistic Regression"
   ]
  },
  {
   "cell_type": "markdown",
   "metadata": {},
   "source": [
    "In logistic regression we have lot of data whose classification is done by\n",
    "building an equation. \n",
    "\n",
    "This method is used to find the discrete dependent variable from the set of\n",
    "independent variables. Its goal is to find the best fit set of parameters. \n",
    "\n",
    "In this classifier, each feature is\n",
    "multiplied by a weight and then all are added. Then the result is passed to sigmoid function which\n",
    "produces the binary output."
   ]
  },
  {
   "cell_type": "markdown",
   "metadata": {},
   "source": [
    "### Logistic Regression Algorithm"
   ]
  },
  {
   "cell_type": "code",
   "execution_count": 6,
   "metadata": {},
   "outputs": [
    {
     "name": "stdout",
     "output_type": "stream",
     "text": [
      "[1]\n"
     ]
    }
   ],
   "source": [
    "import numpy as np\n",
    "import matplotlib.pyplot as plt\n",
    "import pandas as pd\n",
    "from sklearn.linear_model import LogisticRegression\n",
    "X = [[30],[40],[50],[60],[20],[10],[70]]\n",
    "y = [0,1,1,1,0,0,1]\n",
    "classifier = LogisticRegression()\n",
    "classifier.fit(X,y)\n",
    "X_marks=[[100]]\n",
    "print(classifier.predict(X_marks))"
   ]
  },
  {
   "cell_type": "markdown",
   "metadata": {},
   "source": [
    "<br>"
   ]
  },
  {
   "cell_type": "markdown",
   "metadata": {},
   "source": [
    "# Decision Tree"
   ]
  },
  {
   "cell_type": "markdown",
   "metadata": {},
   "source": [
    "It belongs to supervised learning algorithm. Decision tree can be used to\n",
    "classification and regression both having a tree like structure. \n",
    "\n",
    "In a decision tree building algorithm first\n",
    "the best attribute of dataset is placed at the root, then training dataset is split into subsets. Splitting of\n",
    "data depends on the features of datasets. \n",
    "This process is done until the whole data is classified and we\n",
    "find leaf node at each branch. Information gain can be calculated to find which feature is giving us the\n",
    "highest information gain. \n",
    "\n",
    "Decision trees are built for making a training model which can be used to\n",
    "predict class or the value of target variable."
   ]
  },
  {
   "cell_type": "markdown",
   "metadata": {},
   "source": [
    "## Decision Tree Algorithm"
   ]
  },
  {
   "cell_type": "code",
   "execution_count": 7,
   "metadata": {},
   "outputs": [
    {
     "name": "stdout",
     "output_type": "stream",
     "text": [
      "[0]\n"
     ]
    }
   ],
   "source": [
    "import numpy as np\n",
    "import matplotlib.pyplot as plt\n",
    "import pandas as pd\n",
    "from sklearn.tree import DecisionTreeClassifier\n",
    "X = [[30],[40],[50],[60],[20],[10],[70]]\n",
    "y = [0,1,1,1,0,0,1]\n",
    "classifier = DecisionTreeClassifier(criterion = 'entropy', random_state = 0)\n",
    "classifier.fit(X,y)\n",
    "X_marks=[[20]]\n",
    "print(classifier.predict(X_marks))"
   ]
  },
  {
   "cell_type": "markdown",
   "metadata": {},
   "source": [
    "<br>"
   ]
  },
  {
   "cell_type": "markdown",
   "metadata": {},
   "source": [
    "<br>"
   ]
  },
  {
   "cell_type": "markdown",
   "metadata": {},
   "source": [
    "# K-Nearest Neighbours"
   ]
  },
  {
   "cell_type": "markdown",
   "metadata": {},
   "source": [
    "The k-nearest neighbors (KNN) algorithm is a simple, easy-to-implement supervised machine learning algorithm that can be used to solve both classification and regression problems.\n",
    "\n",
    "The KNN algorithm assumes that similar things exist in close proximity. In other words, similar things are near to each other."
   ]
  },
  {
   "cell_type": "markdown",
   "metadata": {},
   "source": [
    "### KNN Algorithm"
   ]
  },
  {
   "cell_type": "code",
   "execution_count": 9,
   "metadata": {},
   "outputs": [
    {
     "name": "stdout",
     "output_type": "stream",
     "text": [
      "[1]\n"
     ]
    }
   ],
   "source": [
    "import numpy as np\n",
    "import matplotlib.pyplot as plt\n",
    "import pandas as pd\n",
    "from sklearn.tree import DecisionTreeClassifier\n",
    "X = [[30],[40],[50],[60],[20],[10],[70]]\n",
    "y = [0,1,1,1,0,0,1]\n",
    "from sklearn.neighbors import KNeighborsClassifier  \n",
    "classifier= KNeighborsClassifier(n_neighbors=5, metric='minkowski', p=2 )  \n",
    "classifier.fit(X,y) \n",
    "X_marks=[[50]]\n",
    "print(classifier.predict(X_marks))"
   ]
  },
  {
   "cell_type": "markdown",
   "metadata": {},
   "source": [
    "<br>"
   ]
  },
  {
   "cell_type": "markdown",
   "metadata": {},
   "source": [
    "# Random Forest"
   ]
  },
  {
   "cell_type": "markdown",
   "metadata": {},
   "source": [
    "Random forest consists of a large number of individual decision trees that operate as an ensemble. \n",
    "\n",
    "Each individual tree in the random forest spits out a class prediction and the class with the most votes becomes this model’s prediction"
   ]
  },
  {
   "cell_type": "markdown",
   "metadata": {},
   "source": [
    "### Random Forest Algorithm"
   ]
  },
  {
   "cell_type": "code",
   "execution_count": 10,
   "metadata": {},
   "outputs": [
    {
     "name": "stdout",
     "output_type": "stream",
     "text": [
      "[0.99]\n"
     ]
    }
   ],
   "source": [
    "import numpy as np\n",
    "import matplotlib.pyplot as plt\n",
    "import pandas as pd\n",
    "from sklearn.ensemble import RandomForestRegressor\n",
    "X = [[30],[40],[50],[60],[20],[10],[70]]\n",
    "y = [0,1,1,1,0,0,1]\n",
    "RandomForestRegModel = RandomForestRegressor()\n",
    "RandomForestRegModel.fit(X,y)\n",
    "classifier.fit(X,y)\n",
    "X_marks=[[70]]\n",
    "print(RandomForestRegModel.predict(X_marks))"
   ]
  },
  {
   "cell_type": "markdown",
   "metadata": {},
   "source": [
    "<br>\n",
    "<br>"
   ]
  },
  {
   "cell_type": "markdown",
   "metadata": {},
   "source": [
    "# Support Vector Machine"
   ]
  },
  {
   "cell_type": "markdown",
   "metadata": {},
   "source": [
    "The main goal of SVM is to divide the class into 2 datasets to find the maximum marginal hyperplanes."
   ]
  },
  {
   "cell_type": "markdown",
   "metadata": {},
   "source": [
    "<br>"
   ]
  },
  {
   "cell_type": "markdown",
   "metadata": {},
   "source": [
    "### Support Vector Machines"
   ]
  },
  {
   "cell_type": "code",
   "execution_count": 11,
   "metadata": {},
   "outputs": [
    {
     "name": "stdout",
     "output_type": "stream",
     "text": [
      "[1]\n"
     ]
    }
   ],
   "source": [
    "import numpy as np\n",
    "import matplotlib.pyplot as plt\n",
    "import pandas as pd\n",
    "from sklearn.svm import SVC\n",
    "X = [[30],[40],[50],[60],[20],[10],[70]]\n",
    "y = [0,1,1,1,0,0,1]\n",
    "classifier = SVC(kernel = 'linear', random_state = 0)\n",
    "classifier.fit(X,y)\n",
    "X_marks=[[55]]\n",
    "print(classifier.predict(X_marks))"
   ]
  },
  {
   "cell_type": "markdown",
   "metadata": {},
   "source": [
    "<br>"
   ]
  },
  {
   "cell_type": "code",
   "execution_count": null,
   "metadata": {},
   "outputs": [],
   "source": []
  }
 ],
 "metadata": {
  "kernelspec": {
   "display_name": "Python 3",
   "language": "python",
   "name": "python3"
  },
  "language_info": {
   "codemirror_mode": {
    "name": "ipython",
    "version": 3
   },
   "file_extension": ".py",
   "mimetype": "text/x-python",
   "name": "python",
   "nbconvert_exporter": "python",
   "pygments_lexer": "ipython3",
   "version": "3.8.3"
  }
 },
 "nbformat": 4,
 "nbformat_minor": 4
}
